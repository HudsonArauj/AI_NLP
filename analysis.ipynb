{
 "cells": [
  {
   "cell_type": "markdown",
   "metadata": {},
   "source": [
    "### 1.Dataset e Objetivo\n",
    "O dataset usado nesse projeto, contém tweets e uma classificação referente aos autores de sacarsmo ou ironia. Com base no paper: <br/>https://link.springer.com/chapter/10.1007/978-3-319-47602-5_39 <br/>\n",
    "Iremos trabalhar a idea central que é dado um twetter, qual a natureza dele, sacarsmo? ironia? ou ambos.\n",
    "\n",
    "\n",
    "Colunas: <br/>\n",
    "`tweets` : texto do tweet <br/>\n",
    "`class` : figurative - irony - regular - sarcasm <br/>\n",
    "\n",
    "\n",
    "O objetivo principal do estudo é analisar, de forma quantitativa, a diferença entre sarcasmo e ironia, com foco em como essas formas de linguagem figurativa são utilizadas por autores no Twitter. O trabalho busca entender se é possível distinguir automaticamente essas duas formas de expressão e quais características são mais relevantes para essa distinção."
   ]
  },
  {
   "cell_type": "code",
   "execution_count": 1,
   "metadata": {},
   "outputs": [],
   "source": [
    "# loader dataset\n",
    "import pandas as pd\n",
    "\n",
    "df_train = pd.read_csv(\"./data/train.csv\")\n",
    "df_test = pd.read_csv(\"./data/test.csv\")\n",
    "df_all = pd.concat([df_train, df_test], sort=False)\n",
    "\n",
    "# sample data\n",
    "sample_data = df_all.sample(33000)\n"
   ]
  },
  {
   "cell_type": "code",
   "execution_count": 2,
   "metadata": {},
   "outputs": [
    {
     "data": {
      "text/html": [
       "<div>\n",
       "<style scoped>\n",
       "    .dataframe tbody tr th:only-of-type {\n",
       "        vertical-align: middle;\n",
       "    }\n",
       "\n",
       "    .dataframe tbody tr th {\n",
       "        vertical-align: top;\n",
       "    }\n",
       "\n",
       "    .dataframe thead th {\n",
       "        text-align: right;\n",
       "    }\n",
       "</style>\n",
       "<table border=\"1\" class=\"dataframe\">\n",
       "  <thead>\n",
       "    <tr style=\"text-align: right;\">\n",
       "      <th></th>\n",
       "      <th>count</th>\n",
       "      <th>unique</th>\n",
       "      <th>top</th>\n",
       "      <th>freq</th>\n",
       "    </tr>\n",
       "  </thead>\n",
       "  <tbody>\n",
       "    <tr>\n",
       "      <th>tweets</th>\n",
       "      <td>33000</td>\n",
       "      <td>30815</td>\n",
       "      <td>$$$=&amp;gt;&amp;gt; #peace #love #freedom\\n#fight for...</td>\n",
       "      <td>6</td>\n",
       "    </tr>\n",
       "    <tr>\n",
       "      <th>class</th>\n",
       "      <td>32997</td>\n",
       "      <td>4</td>\n",
       "      <td>figurative</td>\n",
       "      <td>8593</td>\n",
       "    </tr>\n",
       "  </tbody>\n",
       "</table>\n",
       "</div>"
      ],
      "text/plain": [
       "        count unique                                                top  freq\n",
       "tweets  33000  30815  $$$=&gt;&gt; #peace #love #freedom\\n#fight for...     6\n",
       "class   32997      4                                         figurative  8593"
      ]
     },
     "execution_count": 2,
     "metadata": {},
     "output_type": "execute_result"
    }
   ],
   "source": [
    "# describe data\n",
    "sample_data.describe().T"
   ]
  },
  {
   "cell_type": "code",
   "execution_count": 3,
   "metadata": {},
   "outputs": [
    {
     "name": "stdout",
     "output_type": "stream",
     "text": [
      "class\n",
      "figurative    8593\n",
      "irony         8583\n",
      "sarcasm       8269\n",
      "regular       7552\n",
      "Name: count, dtype: int64\n"
     ]
    }
   ],
   "source": [
    "# Ver o balanceamento do sample_data\n",
    "class_balance = sample_data['class'].value_counts()\n",
    "print(class_balance)"
   ]
  },
  {
   "cell_type": "code",
   "execution_count": 4,
   "metadata": {},
   "outputs": [
    {
     "data": {
      "text/html": [
       "<div>\n",
       "<style scoped>\n",
       "    .dataframe tbody tr th:only-of-type {\n",
       "        vertical-align: middle;\n",
       "    }\n",
       "\n",
       "    .dataframe tbody tr th {\n",
       "        vertical-align: top;\n",
       "    }\n",
       "\n",
       "    .dataframe thead th {\n",
       "        text-align: right;\n",
       "    }\n",
       "</style>\n",
       "<table border=\"1\" class=\"dataframe\">\n",
       "  <thead>\n",
       "    <tr style=\"text-align: right;\">\n",
       "      <th></th>\n",
       "      <th>tweets</th>\n",
       "      <th>class</th>\n",
       "    </tr>\n",
       "  </thead>\n",
       "  <tbody>\n",
       "    <tr>\n",
       "      <th>13734</th>\n",
       "      <td>I shouldnt be here #ironic http://t.co/5ypad9XFpf</td>\n",
       "      <td>figurative</td>\n",
       "    </tr>\n",
       "    <tr>\n",
       "      <th>24623</th>\n",
       "      <td>wow-argument, since Hinduism can respect other...</td>\n",
       "      <td>irony</td>\n",
       "    </tr>\n",
       "    <tr>\n",
       "      <th>1681</th>\n",
       "      <td>@chrisgb00 @chastings1049 @KevinDunn01 @courte...</td>\n",
       "      <td>figurative</td>\n",
       "    </tr>\n",
       "    <tr>\n",
       "      <th>55043</th>\n",
       "      <td>Who's going to break #Reagan 's 11th commandme...</td>\n",
       "      <td>regular</td>\n",
       "    </tr>\n",
       "    <tr>\n",
       "      <th>49257</th>\n",
       "      <td>ESPN Football UK: Premier League sets new spen...</td>\n",
       "      <td>regular</td>\n",
       "    </tr>\n",
       "  </tbody>\n",
       "</table>\n",
       "</div>"
      ],
      "text/plain": [
       "                                                  tweets       class\n",
       "13734  I shouldnt be here #ironic http://t.co/5ypad9XFpf  figurative\n",
       "24623  wow-argument, since Hinduism can respect other...       irony\n",
       "1681   @chrisgb00 @chastings1049 @KevinDunn01 @courte...  figurative\n",
       "55043  Who's going to break #Reagan 's 11th commandme...     regular\n",
       "49257  ESPN Football UK: Premier League sets new spen...     regular"
      ]
     },
     "execution_count": 4,
     "metadata": {},
     "output_type": "execute_result"
    }
   ],
   "source": [
    "#Head\n",
    "sample_data.head()"
   ]
  },
  {
   "cell_type": "markdown",
   "metadata": {},
   "source": [
    "## Definir um Pipeline de Classificação\n",
    "#### Pré-processamento:\n",
    "- Tokenização: Dividir os tweets em palavras individuais.\n",
    "- Conversão para Minúsculas: Normalizar o texto convertendo tudo para minúsculas.\n",
    "- Remoção de Stopwords: Remover stopwords comuns como \"the\", \"is\", etc.\n",
    "- Lematização/Radicalização: Reduzir as palavras à sua forma base (por exemplo, \"running\" → \"run\").\n",
    "- Tratamento de Caracteres Especiais: Manter caracteres especiais importantes, como emoticons, e remover URLs e menções (@username).\n",
    "#### Feature Engineering:\n",
    "- Bag of Words (BoW): Converter o texto em um vetor de ocorrências de palavras.\n",
    "- TF-IDF: Ajustar o modelo BoW considerando a importância de uma palavra em relação à sua frequência em todos os tweets.\n",
    "- Features de Sentimento: Usar lexicons de sentimento para atribuir escores de sentimento a cada tweet (positivo ou negativo).\n",
    "- Contagem de Emoticons: Rastrear o número de emoticons em cada tweet, pois eles muitas vezes transmitem sentimento adicional.\n",
    "#### Modelos:\n",
    "- Logistic Regression: Um modelo simples e interpretável adequado para classificação binária.\n",
    "- Random Forest: Um método robusto de ensemble que combina várias árvores de decisão.\n",
    "- Support Vector Machine (SVM): Conhecido por sua eficácia em classificação de texto.\n",
    "\n",
    "\n",
    "Assumptions do Modelo Bag-of-Words: Para a classificação sarcasmo/ironia, BoW faz sentido porque a presença de palavras específicas (como \"yay\" em tweets sarcásticos) pode indicar fortemente a categoria do tweet. No entanto, essa abordagem pode falhar em casos onde o sarcasmo é implícito e depende da combinação de palavras em vez de ocorrências individuais de palavras."
   ]
  },
  {
   "cell_type": "code",
   "execution_count": 18,
   "metadata": {},
   "outputs": [],
   "source": [
    "import pandas as pd\n",
    "import nltk\n",
    "from nltk.corpus import stopwords\n",
    "from sklearn.model_selection import train_test_split\n",
    "from sklearn.feature_extraction.text import CountVectorizer, TfidfTransformer\n",
    "from nltk.stem import WordNetLemmatizer\n",
    "\n",
    "# nltk.download('stopwords')\n",
    "# nltk.download('wordnet')\n",
    "\n",
    "data = sample_data \n",
    "data = data.dropna()\n",
    "# Lowercasing\n",
    "data.loc[:, 'tweets'] = data['tweets'].str.lower()\n",
    "\n",
    "# Remover stopwords\n",
    "stop_words = set(stopwords.words('english'))\n",
    "data.loc[:, 'tweets'] = data['tweets'].apply(lambda x: ' '.join([word for word in x.split() if word not in stop_words]))\n",
    "\n",
    "# Lemmatização\n",
    "lemmatizer = WordNetLemmatizer()\n",
    "data.loc[:, 'tweets'] = data['tweets'].apply(lambda x: ' '.join([lemmatizer.lemmatize(word) for word in x.split()]))\n",
    "\n",
    "# Dividir os dados em treino e teste\n",
    "X_train, X_test, y_train, y_test = train_test_split(data['tweets'], data['class'], test_size=0.2, random_state=42)\n",
    "\n",
    "# Vetorização (Bag of Words)\n",
    "vectorizer = CountVectorizer()\n",
    "X_train_counts = vectorizer.fit_transform(X_train)\n",
    "\n",
    "# Transformar em TF-IDF\n",
    "tfidf_transformer = TfidfTransformer()\n",
    "X_train_tfidf = tfidf_transformer.fit_transform(X_train_counts)\n"
   ]
  },
  {
   "cell_type": "markdown",
   "metadata": {},
   "source": [
    "### Treinamento do Modelo:\n",
    "- Treinar os modelos de regressão logística, random forest e SVM no dataset pré-processado.\n",
    "- Avaliar o desempenho usando o balanced accuracy score, já que as classes podem não estar perfeitamente balanceadas.\n",
    "### Identificar Features Importantes:\n",
    "- Usar os coeficientes da regressão logística ou a importância das features no random forest para identificar as palavras mais impactantes na classificação.\n",
    "### Avaliação:\n",
    "Discutir quais palavras são proeminentes na classificação (por exemplo, sarcasmo geralmente inclui palavras como \"yay\", \"awesome\", enquanto a ironia usa palavras mais descritivas como \"however\")."
   ]
  },
  {
   "cell_type": "code",
   "execution_count": 19,
   "metadata": {},
   "outputs": [
    {
     "name": "stdout",
     "output_type": "stream",
     "text": [
      "Logistic Regression - Balanced Accuracy: 0.7099991167680213\n",
      "Random Forest - Balanced Accuracy: 0.67611842963255\n",
      "SVM - Balanced Accuracy: 0.6613845917550152\n"
     ]
    }
   ],
   "source": [
    "from sklearn.linear_model import LogisticRegression\n",
    "from sklearn.ensemble import RandomForestClassifier\n",
    "from sklearn.svm import LinearSVC\n",
    "from sklearn.metrics import balanced_accuracy_score\n",
    "\n",
    "# Logistic Regression\n",
    "lr = LogisticRegression(max_iter=1000)\n",
    "lr.fit(X_train_tfidf, y_train)\n",
    "\n",
    "X_test_counts = vectorizer.transform(X_test)\n",
    "X_test_tfidf = tfidf_transformer.transform(X_test_counts)\n",
    "y_pred_lr = lr.predict(X_test_tfidf)\n",
    "print(f\"Logistic Regression - Balanced Accuracy: {balanced_accuracy_score(y_test, y_pred_lr)}\")\n",
    "\n",
    "# Random Forest\n",
    "rf = RandomForestClassifier(n_estimators=50, max_depth=10, n_jobs=-1) \n",
    "rf.fit(X_train_tfidf, y_train)\n",
    "y_pred_rf = rf.predict(X_test_tfidf)\n",
    "print(f\"Random Forest - Balanced Accuracy: {balanced_accuracy_score(y_test, y_pred_rf)}\")\n",
    "\n",
    "# Support Vector Machine\n",
    "svc = LinearSVC(max_iter=1000)\n",
    "svc.fit(X_train_tfidf, y_train)\n",
    "y_pred_svc = svc.predict(X_test_tfidf)\n",
    "print(f\"SVM - Balanced Accuracy: {balanced_accuracy_score(y_test, y_pred_svc)}\")\n"
   ]
  },
  {
   "cell_type": "markdown",
   "metadata": {},
   "source": [
    "# 4. Avaliar o Tamanho do Dataset\n",
    "Para avaliar o impacto do tamanho do dataset, execute o modelo várias vezes em diferentes subconjuntos (por exemplo, 10%, 30%, 50% e 100% dos dados). Plote as taxas de erro de treino e teste para determinar se o desempenho do modelo melhora com mais dados ou atinge um platô.\n",
    "\n",
    "Se o desempenho aumentar significativamente com mais dados, isso sugere espaço para melhoria ampliando o dataset. No entanto, coletar mais tweets sarcásticos e irônicos pode ser difícil e custoso em um cenário de negócios real."
   ]
  },
  {
   "cell_type": "code",
   "execution_count": 20,
   "metadata": {},
   "outputs": [
    {
     "data": {
      "image/png": "[encoded data removed]",
      "text/plain": [
       "<Figure size 640x480 with 1 Axes>"
      ]
     },
     "metadata": {},
     "output_type": "display_data"
    }
   ],
   "source": [
    "import matplotlib.pyplot as plt\n",
    "import numpy as np\n",
    "\n",
    "train_sizes = [0.1, 0.3, 0.5, 0.7, 0.9]  \n",
    "train_errors = []\n",
    "test_errors = []\n",
    "\n",
    "for size in train_sizes:\n",
    "    X_train_sub, _, y_train_sub, _ = train_test_split(X_train, y_train, train_size=size, random_state=42)\n",
    "    X_train_sub_counts = vectorizer.transform(X_train_sub)\n",
    "    X_train_sub_tfidf = tfidf_transformer.transform(X_train_sub_counts)\n",
    "    \n",
    "    # Treinar o modelo Logistic Regression em subconjuntos\n",
    "    lr.fit(X_train_sub_tfidf, y_train_sub)\n",
    "    y_train_pred = lr.predict(X_train_sub_tfidf)\n",
    "    y_test_pred = lr.predict(X_test_tfidf)\n",
    "    \n",
    "    # Calcular erro no treino e no teste\n",
    "    train_errors.append(1 - balanced_accuracy_score(y_train_sub, y_train_pred))\n",
    "    test_errors.append(1 - balanced_accuracy_score(y_test, y_test_pred))\n",
    "\n",
    "# Plotar\n",
    "plt.plot(train_sizes, train_errors, label='Train Error')\n",
    "plt.plot(train_sizes, test_errors, label='Test Error')\n",
    "plt.xlabel('Training Set Size')\n",
    "plt.ylabel('Error Rate')\n",
    "plt.legend()\n",
    "plt.show()\n"
   ]
  },
  {
   "cell_type": "markdown",
   "metadata": {},
   "source": [
    "Train Error (linha azul): <br/>À medida que o tamanho do conjunto de treino aumenta, o erro no conjunto de treino também aumenta. Isso faz sentido, pois quanto mais dados usamos no treino, mais difícil se torna para o modelo \"memorizar\" os dados, levando a um aumento no erro de treino.\n",
    "\n",
    "Test Error (linha laranja):<br/> A taxa de erro no conjunto de teste permanece relativamente estável e alta, mostrando que o modelo está com dificuldades para generalizar bem, independentemente do aumento do conjunto de treino.\n",
    "\n",
    "\n",
    "Este comportamento sugere que o modelo pode estar sofrendo de underfitting, ou seja, ele não está conseguindo capturar adequadamente a complexidade dos dados, pois o erro de teste não melhora com mais dados de treino e o erro de treino aumenta gradualmente. O aumento do tamanho do conjunto de dados de treino não está resultando em melhorias significativas no desempenho no conjunto de teste, sugerindo que outras técnicas, como o ajuste do modelo ou o uso de diferentes abordagens, poderiam ser exploradas para melhorar a performance."
   ]
  },
  {
   "cell_type": "markdown",
   "metadata": {},
   "source": [
    "# 5. Modelos de Tópicos e Classificação em Dois Níveis\n",
    "### LDA (Latent Dirichlet Allocation):\n",
    "- Aplicar LDA para identificar tópicos dominantes dentro dos tweets.\n",
    "- Atribuir cada tweet ao seu tópico mais provável e observar se certos tópicos (por exemplo, política, esportes) têm uma taxa de erro de classificação maior ou menor.\n",
    "### Classificação em Duas Camadas:\n",
    "- Usar o modelo de tópicos para primeiro atribuir um rótulo de tópico a cada tweet.\n",
    "- Treinar classificadores separados para cada tópico e comparar o desempenho com o classificador de uma camada.\n",
    "- Isso pode melhorar o desempenho se certos tópicos (como sarcasmo político) forem mais fáceis de classificar do que outros."
   ]
  },
  {
   "cell_type": "code",
   "execution_count": 9,
   "metadata": {},
   "outputs": [
    {
     "name": "stdout",
     "output_type": "stream",
     "text": [
      "Topic 0:\n",
      "['co', 'sarcasm', 'http', 'irony', 'https', 'ironic', 'education', 'love', 'people', 'know']\n",
      "Topic 1:\n",
      "['irony', 'co', 'sarcasm', 'http', 'ironic', 'https', 'love', 'sarcastic', 'people', 'make']\n",
      "Topic 2:\n",
      "['sarcasm', 'co', 'irony', 'http', 'ironic', 'https', 'good', 'news', 'day', 'like']\n",
      "Topic 3:\n",
      "['sarcasm', 'co', 'http', 'irony', 'https', 'ironic', 'late', 'love', 'funny', 'great']\n",
      "Topic 4:\n",
      "['co', 'http', 'irony', 'sarcasm', 'ironic', 'https', 'politics', 'amp', 'peace', 'late']\n"
     ]
    }
   ],
   "source": [
    "from sklearn.decomposition import LatentDirichletAllocation\n",
    "\n",
    "# Aplicar LDA para identificar tópicos\n",
    "lda = LatentDirichletAllocation(n_components=5, random_state=42)\n",
    "X_train_topics = lda.fit_transform(X_train_tfidf)\n",
    "\n",
    "# Mostrar os tópicos\n",
    "terms = vectorizer.get_feature_names_out()\n",
    "for idx, topic in enumerate(lda.components_):\n",
    "    print(f\"Topic {idx}:\")\n",
    "    print([terms[i] for i in topic.argsort()[:-11:-1]])\n"
   ]
  },
  {
   "cell_type": "markdown",
   "metadata": {},
   "source": [
    "### Topic 0:\n",
    "\n",
    "Principais termos: ['co', 'sarcasm', 'http', 'irony', 'https', 'ironic', 'education', 'love', 'people', 'know']\n",
    "Esse tópico parece estar relacionado à educação e às interações sociais, com termos como \"education\", \"love\", \"people\", mas também inclui muitas palavras associadas ao sarcasmo e ironia.\n",
    "### Topic 1:\n",
    "\n",
    "Principais termos: ['irony', 'co', 'sarcasm', 'http', 'ironic', 'https', 'love', 'sarcastic', 'people', 'make']\n",
    "Esse tópico parece estar fortemente relacionado a ironia e sarcasmo, com palavras como \"irony\", \"sarcasm\", e \"sarcastic\", o que faz sentido dado o propósito do conjunto de dados.\n",
    "### Topic 2:\n",
    "\n",
    "Principais termos: ['sarcasm', 'co', 'irony', 'http', 'ironic', 'https', 'good', 'news', 'day', 'like']\n",
    "O tópico pode estar relacionado a notícias ou eventos diários, com termos como \"good\", \"news\", \"day\", indicando a presença de tweets sarcásticos ou irônicos sobre o dia-a-dia.\n",
    "### Topic 3:\n",
    "\n",
    "Principais termos: ['sarcasm', 'co', 'http', 'irony', 'https', 'ironic', 'late', 'love', 'funny', 'great']\n",
    "Esse tópico parece incluir tweets que usam sarcasmo para comentar situações como estar atrasado (\"late\") ou fazer observações engraçadas (\"funny\").\n",
    "### Topic 4:\n",
    "\n",
    "Principais termos: ['co', 'http', 'irony', 'sarcasm', 'ironic', 'https', 'politics', 'amp', 'peace', 'late']\n",
    "Este tópico parece estar relacionado a política, paz e sarcasmo/ironia, com termos como \"politics\", \"peace\", sugerindo que esses temas aparecem frequentemente nas discussões irônicas ou sarcásticas.\n",
    "### Observações:\n",
    "Muitos termos como ['co', 'http', 'https'] são comuns em todos os tópicos e não ajudam a distinguir os temas. Estes termos provavelmente estão relacionados a links ou URLs nos tweets.\n",
    "\n",
    "\n",
    "Os tópicos indicam que os tweets estão frequentemente relacionados a sarcasmo, ironia e sentimentos em contextos como política, notícias, educação e interações sociais.\n",
    "Isso pode ser útil para análise e interpretação de sarcasmo ou ironia em contextos específicos dentro das redes sociais."
   ]
  },
  {
   "cell_type": "markdown",
   "metadata": {},
   "source": [
    "### Classificação em Dois Níveis:\n",
    "Primeiro, categorizamos os tweets em tópicos e depois treinamos classificadores para cada tópico."
   ]
  },
  {
   "cell_type": "code",
   "execution_count": 11,
   "metadata": {},
   "outputs": [
    {
     "name": "stdout",
     "output_type": "stream",
     "text": [
      "Training classifier for topic 0\n",
      "Balanced Accuracy for topic 0: 0.6996646752758852\n",
      "Training classifier for topic 1\n",
      "Balanced Accuracy for topic 1: 0.7069464559317395\n",
      "Training classifier for topic 2\n",
      "Balanced Accuracy for topic 2: 0.6944046274715068\n",
      "Training classifier for topic 3\n",
      "Balanced Accuracy for topic 3: 0.6944809612401913\n",
      "Training classifier for topic 4\n",
      "Balanced Accuracy for topic 4: 0.6654482089665951\n"
     ]
    }
   ],
   "source": [
    "from sklearn.model_selection import StratifiedKFold\n",
    "\n",
    "# Dividir por tópicos (camada 1)\n",
    "topic_labels = np.argmax(X_train_topics, axis=1)\n",
    "\n",
    "# Classificar cada tópico separadamente\n",
    "for topic in np.unique(topic_labels):\n",
    "    print(f\"Training classifier for topic {topic}\")\n",
    "    topic_idx = (topic_labels == topic)\n",
    "    \n",
    "    # Treinar classificador apenas para tweets deste tópico\n",
    "    lr_topic =  LogisticRegression(max_iter=1000)\n",
    "\n",
    "    lr_topic.fit(X_train_tfidf[topic_idx], y_train[topic_idx])\n",
    "    \n",
    "    # Avaliar no conjunto de teste (camada 2)\n",
    "    test_topic_idx = np.argmax(lda.transform(X_test_tfidf), axis=1) == topic\n",
    "    y_pred_topic = lr_topic.predict(X_test_tfidf[test_topic_idx])\n",
    "    print(f\"Balanced Accuracy for topic {topic}: {balanced_accuracy_score(y_test[test_topic_idx], y_pred_topic)}\")\n"
   ]
  },
  {
   "cell_type": "markdown",
   "metadata": {},
   "source": [
    "### Divisão por Tópicos:\n",
    "\n",
    "- O modelo LDA foi aplicado para identificar cinco tópicos latentes nos tweets de treinamento.\n",
    "- Para cada tweet, o tópico mais provável é selecionado como rótulo (utilizando np.argmax).\n",
    "### Treinamento de Classificadores Separados:\n",
    "\n",
    "- Para cada um dos cinco tópicos, o código treina um classificador de regressão logística (Logistic Regression) apenas nos tweets pertencentes a esse tópico.\n",
    "- Isso significa que a classificação de sarcasmo/ironia é realizada separadamente para cada tópico, potencialmente capturando nuances específicas de sarcasmo ou ironia em cada contexto.\n",
    "### Avaliação de Cada Tópico:\n",
    "\n",
    "- Para o conjunto de testes, o modelo LDA é novamente utilizado para identificar a qual tópico cada tweet pertence.\n",
    "- A regressão logística treinada para o respectivo tópico faz a predição, e o desempenho é avaliado utilizando o balanced accuracy score (acurácia balanceada)."
   ]
  },
  {
   "cell_type": "markdown",
   "metadata": {},
   "source": [
    "Este modelo primeiro usa LDA para agrupar os tweets em tópicos e, em seguida, treina classificadores separados para cada grupo de tópicos, avaliando seu desempenho no conjunto de testes."
   ]
  }
 ],
 "metadata": {
  "kernelspec": {
   "display_name": "env",
   "language": "python",
   "name": "python3"
  },
  "language_info": {
   "codemirror_mode": {
    "name": "ipython",
    "version": 3
   },
   "file_extension": ".py",
   "mimetype": "text/x-python",
   "name": "python",
   "nbconvert_exporter": "python",
   "pygments_lexer": "ipython3",
   "version": "3.10.6"
  }
 },
 "nbformat": 4,
 "nbformat_minor": 2
}
